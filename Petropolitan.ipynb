{
 "cells": [
  {
   "cell_type": "code",
   "execution_count": 1,
   "id": "infrared-institute",
   "metadata": {},
   "outputs": [],
   "source": [
    "import warnings\n",
    "warnings.filterwarnings('ignore')\n",
    "import numpy as np\n",
    "M, N, K = 1000, 100, 100\n",
    "A = np.arange(M * K).astype(np.int32)\n",
    "B = np.arange(K * N).astype(np.int32)\n",
    "C1 = np.empty((M * N), dtype=np.int32)"
   ]
  },
  {
   "cell_type": "code",
   "execution_count": 2,
   "id": "valued-doubt",
   "metadata": {},
   "outputs": [
    {
     "name": "stdout",
     "output_type": "stream",
     "text": [
      "0:00:11.052835\n"
     ]
    }
   ],
   "source": [
    "from datetime import datetime\n",
    "start = datetime.now()\n",
    "\n",
    "for i in range(M):\n",
    "    for j in range(N):\n",
    "        C1[i*N + j] = 0\n",
    "        for k in range(K):\n",
    "            C1[i*N + j] += A[i*K + k] * B[k*N + j]\n",
    "print(datetime.now() - start)"
   ]
  },
  {
   "cell_type": "code",
   "execution_count": 3,
   "id": "political-melbourne",
   "metadata": {},
   "outputs": [
    {
     "name": "stdout",
     "output_type": "stream",
     "text": [
      "0:00:07.789281\n"
     ]
    }
   ],
   "source": [
    "# Изменение порядка циклов дает прирост в 3 секунды\n",
    "start = datetime.now()\n",
    "for i in range(M):\n",
    "    for j in range(N):\n",
    "        C1[i * N + j] = 0\n",
    "    for k in range(K):\n",
    "        k_N = k * N\n",
    "        a = A[i * K + k]\n",
    "        i_N = i * N\n",
    "        for j in range(N):\n",
    "            C1[i_N + j] += a * B[k_N + j]\n",
    "            \n",
    "print(datetime.now() - start)"
   ]
  },
  {
   "cell_type": "code",
   "execution_count": 4,
   "id": "unlimited-marking",
   "metadata": {},
   "outputs": [],
   "source": [
    "C2 = np.zeros((M, N))\n",
    "A2 = A.reshape(M, K).astype(np.int32)\n",
    "B2 = B.reshape(K, N).astype(np.int32)\n",
    "C2 = (A2 @ B2).flatten()\n",
    "\n",
    "from numpy import testing\n",
    "# Выдаст ошибку, если матрицы не совпадают\n",
    "testing.assert_array_equal(C2, C1)"
   ]
  },
  {
   "cell_type": "code",
   "execution_count": 5,
   "id": "downtown-orleans",
   "metadata": {},
   "outputs": [
    {
     "name": "stdout",
     "output_type": "stream",
     "text": [
      "13.4 ms ± 192 µs per loop (mean ± std. dev. of 7 runs, 100 loops each)\n"
     ]
    }
   ],
   "source": [
    "# с использованием библиотеки numpy \n",
    "\n",
    "%%timeit\n",
    "C2 = np.zeros((M, N))\n",
    "A2 = A.reshape(M, K).astype(np.int32)\n",
    "B2 = B.reshape(K, N).astype(np.int32)\n",
    "C2 = (A2 @ B2).flatten()"
   ]
  },
  {
   "cell_type": "code",
   "execution_count": 6,
   "id": "agricultural-station",
   "metadata": {},
   "outputs": [],
   "source": [
    "# с использованием CUDA\n",
    "\n",
    "from numba import cuda\n",
    "\n",
    "@cuda.jit\n",
    "def matmul(A, B, C):\n",
    "\n",
    "    grid_column, grid_row = cuda.grid(2)\n",
    "    stride_column, stride_row = cuda.gridsize(2)\n",
    "    \n",
    "    for data_row in range(grid_row, A.shape[0], stride_row):\n",
    "        for data_column in range(grid_column, B.shape[1], stride_column):\n",
    "            sum = 0\n",
    "            for i in range(A.shape[1]):\n",
    "                sum += A[data_row][i] * B[i][data_column]\n",
    "                \n",
    "            C[data_row][data_column] = sum\n",
    "\n",
    "\n",
    "A3 = cuda.to_device(A.reshape(M, K))\n",
    "B3 = cuda.to_device(B.reshape(K, N))\n",
    "C3 = cuda.to_device(np.zeros((M, N)).astype(np.int32))\n",
    "\n",
    "threads_per_block = (32,32)\n",
    "blocks = (32,32) \n",
    "\n",
    "matmul[blocks,  threads_per_block](A3, B3, C3)\n",
    "\n",
    "# Выдаст ошибку, если матрицы не совпадают\n",
    "testing.assert_array_equal(C3.copy_to_host().flatten(), C2)\n"
   ]
  },
  {
   "cell_type": "code",
   "execution_count": 7,
   "id": "altered-undergraduate",
   "metadata": {},
   "outputs": [
    {
     "name": "stdout",
     "output_type": "stream",
     "text": [
      "2.26 ms ± 117 µs per loop (mean ± std. dev. of 7 runs, 100 loops each)\n"
     ]
    }
   ],
   "source": [
    "# прирост незначительный по сравнению с реализацией с помощью numpy, \n",
    "# потому что учитывается время перенеса матриц на граффический процессор\n",
    "%%timeit\n",
    "A3 = cuda.to_device(A.reshape(M, K))\n",
    "B3 = cuda.to_device(B.reshape(K, N))\n",
    "C3 = cuda.to_device(np.zeros((M, N)).astype(np.int32))\n",
    "\n",
    "matmul[blocks,  threads_per_block](A3, B3, C3)\n",
    "C3 = C3.copy_to_host()"
   ]
  },
  {
   "cell_type": "code",
   "execution_count": 8,
   "id": "liquid-unemployment",
   "metadata": {},
   "outputs": [],
   "source": [
    "C3 = cuda.to_device(np.zeros((M, N)).astype(np.int32))"
   ]
  },
  {
   "cell_type": "code",
   "execution_count": 9,
   "id": "certain-chick",
   "metadata": {},
   "outputs": [
    {
     "name": "stdout",
     "output_type": "stream",
     "text": [
      "194 µs ± 12.4 µs per loop (mean ± std. dev. of 7 runs, 10000 loops each)\n"
     ]
    }
   ],
   "source": [
    "# чистое время вычисления без переноса данных\n",
    "%%timeit\n",
    "matmul[blocks,  threads_per_block](A3, B3, C3)"
   ]
  },
  {
   "cell_type": "code",
   "execution_count": null,
   "id": "stock-catch",
   "metadata": {},
   "outputs": [],
   "source": []
  }
 ],
 "metadata": {
  "kernelspec": {
   "display_name": "Python 3",
   "language": "python",
   "name": "python3"
  },
  "language_info": {
   "codemirror_mode": {
    "name": "ipython",
    "version": 3
   },
   "file_extension": ".py",
   "mimetype": "text/x-python",
   "name": "python",
   "nbconvert_exporter": "python",
   "pygments_lexer": "ipython3",
   "version": "3.8.5"
  }
 },
 "nbformat": 4,
 "nbformat_minor": 5
}
